{
 "cells": [
  {
   "cell_type": "markdown",
   "metadata": {},
   "source": [
    "# Decision Tree From Scratch - ID3 (Iterative Dichotomiser 3)"
   ]
  },
  {
   "cell_type": "markdown",
   "metadata": {},
   "source": [
    "### Decision Tree\n",
    "- Supervised Learning (Classification).\n",
    "- Non-linear Classifier."
   ]
  },
  {
   "cell_type": "markdown",
   "metadata": {},
   "source": [
    "### For more info please check:\n",
    "- <a href=\"https://en.wikipedia.org/wiki/Decision_tree_learning\">Decision tree learning</a>\n",
    "- <a href=\"https://en.wikipedia.org/wiki/ID3_algorithm\">ID3 algorithm</a>"
   ]
  },
  {
   "cell_type": "code",
   "execution_count": 1,
   "metadata": {},
   "outputs": [],
   "source": [
    "import numpy as np\n",
    "from scipy import stats"
   ]
  },
  {
   "cell_type": "code",
   "execution_count": 2,
   "metadata": {},
   "outputs": [],
   "source": [
    "class decision_tree_id3:\n",
    "    def predict(self, X):\n",
    "        if (hasattr(self, 'tree')):\n",
    "            t_predicted = self.__predict(X)\n",
    "            return t_predicted\n",
    "        else:\n",
    "            print('Please run fit in order to be able to use predict')\n",
    "            \n",
    "    def __predict(self, X):\n",
    "        y = np.zeros((len(X)))\n",
    "        for i,x in enumerate(X):\n",
    "            y[i] = self.__predict_one(x, self.tree)\n",
    "        return y\n",
    "    \n",
    "    def __predict_one(self, x, tree):\n",
    "        if (tree['label'] is None):\n",
    "            if (x[tree['col_ind']] >= tree['val']):\n",
    "                return self.__predict_one(x, tree['right'])\n",
    "            else:\n",
    "                return self.__predict_one(x, tree['left'])\n",
    "        else:\n",
    "            return tree['label']\n",
    "    \n",
    "    def accuracy(self, y_actual, y_predicted):\n",
    "        return np.mean(y_actual == y_predicted) * 100\n",
    "    \n",
    "    def __entropy(self, y):\n",
    "        distinct_vals = np.unique(y)\n",
    "        entropy = 0.0\n",
    "        for distinct_val in distinct_vals:\n",
    "            p = len(y[y == distinct_val]) / len(y)\n",
    "            entropy -= p * np.log2(p)\n",
    "        return entropy\n",
    "    \n",
    "    def __att_selection(self, X, y, used_attributes):\n",
    "        parent_entropy = self.__entropy(y)\n",
    "        max_gain = 0.0\n",
    "        split_col_ind = None\n",
    "        split_val = None\n",
    "        \n",
    "        for col_ind, col_vec in enumerate(X.T):\n",
    "            if (bool(np.isin(col_ind, used_attributes))):\n",
    "                continue\n",
    "            distinct_col_values = np.unique(col_vec)\n",
    "            for val in distinct_col_values:\n",
    "                y_right = y[col_vec >= val]\n",
    "                y_left = y[col_vec < val]\n",
    "                \n",
    "                split_weighted_entropy = (len(y_right)/len(y)) * self.__entropy(y_right)\n",
    "                split_weighted_entropy += (len(y_left)/len(y)) * self.__entropy(y_left)\n",
    "                info_gain = parent_entropy - split_weighted_entropy\n",
    "                \n",
    "                if (info_gain > max_gain):\n",
    "                    max_gain = info_gain\n",
    "                    split_col_ind = col_ind\n",
    "                    split_val = val\n",
    "                    \n",
    "        return split_col_ind, split_val\n",
    "    \n",
    "    def __fit_tree(self, X, y, used_attributes):\n",
    "        if (len(np.unique(y)) == 1):\n",
    "            return {'col_ind': None,\n",
    "                    'attribute': None,\n",
    "                    'val': None,\n",
    "                    'right': None,\n",
    "                    'left': None,\n",
    "                    'label': y[0]}\n",
    "        \n",
    "        split_col_ind, split_val = self.__att_selection(X, y, used_attributes)\n",
    "        split_attribute = self.attributes[split_col_ind]\n",
    "        \n",
    "        used_attributes = np.append(used_attributes, split_col_ind)\n",
    "                \n",
    "        if (split_col_ind is None or split_val is None):\n",
    "            return {'col_ind': None,\n",
    "                    'attribute': None,\n",
    "                    'val': None,\n",
    "                    'right': None,\n",
    "                    'left': None,\n",
    "                    'label': stats.mode(y)[0][0]}\n",
    "        \n",
    "        right_X = X[X[:, split_col_ind] >= split_val]\n",
    "        right_y = y[X[:, split_col_ind] >= split_val]\n",
    "        \n",
    "        left_X = X[X[:, split_col_ind] < split_val]\n",
    "        left_y = y[X[:, split_col_ind] < split_val]\n",
    "        \n",
    "        right_tree = self.__fit_tree(right_X, right_y, used_attributes)\n",
    "        left_tree = self.__fit_tree(left_X, left_y, used_attributes)\n",
    "        \n",
    "        return {'col_ind': split_col_ind,\n",
    "                'attribute': split_attribute,\n",
    "                'val': split_val,\n",
    "                'right': right_tree,\n",
    "                'left': left_tree,\n",
    "                'label': None}        \n",
    "        \n",
    "    def fit(self, X, t, attributes = []):\n",
    "        self.X = X\n",
    "        self.t = t\n",
    "        self.attributes = attributes\n",
    "        self.tree = {}\n",
    "        used_attributes = []\n",
    "        \n",
    "        if (len(self.attributes) == 0 and len(X[0]) != 0):\n",
    "            self.attributes = np.array(['X{}'.format(i+1) for i in range(len(X[0]))])\n",
    "            \n",
    "        elif (len(self.attributes) != len(X[0])):\n",
    "            print('Please make sure that the attrebutes length equals to number of columns of data')\n",
    "            return\n",
    "        \n",
    "        self.tree = self.__fit_tree(self.X, self.t, used_attributes)\n",
    "        "
   ]
  },
  {
   "cell_type": "code",
   "execution_count": null,
   "metadata": {},
   "outputs": [],
   "source": []
  },
  {
   "cell_type": "code",
   "execution_count": null,
   "metadata": {},
   "outputs": [],
   "source": []
  },
  {
   "cell_type": "markdown",
   "metadata": {},
   "source": [
    "# Dataset 1"
   ]
  },
  {
   "cell_type": "markdown",
   "metadata": {},
   "source": [
    "### Training"
   ]
  },
  {
   "cell_type": "code",
   "execution_count": 3,
   "metadata": {},
   "outputs": [],
   "source": [
    "Data = np.genfromtxt('synth.tr.csv', delimiter=',', skip_header=True)\n",
    "X = Data[:, 1:3]\n",
    "t = Data[:, 3]\n",
    "\n",
    "dt = decision_tree_id3()\n",
    "dt.fit(X, t)"
   ]
  },
  {
   "cell_type": "markdown",
   "metadata": {},
   "source": [
    "### Testing"
   ]
  },
  {
   "cell_type": "code",
   "execution_count": 4,
   "metadata": {},
   "outputs": [
    {
     "name": "stdout",
     "output_type": "stream",
     "text": [
      "Accuracy 90.0 %\n"
     ]
    }
   ],
   "source": [
    "Data_test = np.genfromtxt('synth.te.csv', delimiter=',', skip_header=True)\n",
    "X_test = Data_test[:, 1:3]\n",
    "y_actual = Data_test[:, 3]\n",
    "y_predicted = dt.predict(X_test)\n",
    "acc = dt.accuracy(y_actual, y_predicted)\n",
    "print('Accuracy', acc, '%')"
   ]
  },
  {
   "cell_type": "code",
   "execution_count": 5,
   "metadata": {},
   "outputs": [
    {
     "data": {
      "text/plain": [
       "{'col_ind': 1,\n",
       " 'attribute': 'X2',\n",
       " 'val': 0.49785904,\n",
       " 'right': {'col_ind': 0,\n",
       "  'attribute': 'X1',\n",
       "  'val': -0.59823393,\n",
       "  'right': {'col_ind': None,\n",
       "   'attribute': None,\n",
       "   'val': None,\n",
       "   'right': None,\n",
       "   'left': None,\n",
       "   'label': 1.0},\n",
       "  'left': {'col_ind': None,\n",
       "   'attribute': None,\n",
       "   'val': None,\n",
       "   'right': None,\n",
       "   'left': None,\n",
       "   'label': 0.0},\n",
       "  'label': None},\n",
       " 'left': {'col_ind': 0,\n",
       "  'attribute': 'X1',\n",
       "  'val': -0.36528923,\n",
       "  'right': {'col_ind': None,\n",
       "   'attribute': None,\n",
       "   'val': None,\n",
       "   'right': None,\n",
       "   'left': None,\n",
       "   'label': 0.0},\n",
       "  'left': {'col_ind': None,\n",
       "   'attribute': None,\n",
       "   'val': None,\n",
       "   'right': None,\n",
       "   'left': None,\n",
       "   'label': 0.0},\n",
       "  'label': None},\n",
       " 'label': None}"
      ]
     },
     "execution_count": 5,
     "metadata": {},
     "output_type": "execute_result"
    }
   ],
   "source": [
    "dt.tree"
   ]
  },
  {
   "cell_type": "code",
   "execution_count": null,
   "metadata": {},
   "outputs": [],
   "source": []
  },
  {
   "cell_type": "code",
   "execution_count": null,
   "metadata": {},
   "outputs": [],
   "source": []
  },
  {
   "cell_type": "markdown",
   "metadata": {},
   "source": [
    "# Dataset 2"
   ]
  },
  {
   "cell_type": "markdown",
   "metadata": {},
   "source": [
    "### Training"
   ]
  },
  {
   "cell_type": "code",
   "execution_count": 6,
   "metadata": {},
   "outputs": [],
   "source": [
    "Data2 = np.genfromtxt('Data1.txt')\n",
    "# Data2 = Data2[Data2[:,0] < 40] # Without outliers\n",
    "X2 = Data2[:, 0:2]\n",
    "t2 = np.array([1 if i >= 0 else 0 for i in Data2[:, 2]])\n",
    "\n",
    "dt2 = decision_tree_id3()\n",
    "dt2.fit(X2, t2)"
   ]
  },
  {
   "cell_type": "markdown",
   "metadata": {},
   "source": [
    "### Testing"
   ]
  },
  {
   "cell_type": "code",
   "execution_count": 7,
   "metadata": {},
   "outputs": [
    {
     "name": "stdout",
     "output_type": "stream",
     "text": [
      "Accuracy 97.5 %\n"
     ]
    }
   ],
   "source": [
    "Data2_test = np.genfromtxt('Test1.txt')\n",
    "X2_test = Data2_test[:, 0:2]\n",
    "y2_actual = np.array([1 if i >= 0 else 0 for i in Data2_test[:, 2]])\n",
    "y2_predicted = dt2.predict(X2_test)\n",
    "acc2 = dt2.accuracy(y2_actual, y2_predicted)\n",
    "print('Accuracy', acc2, '%')"
   ]
  },
  {
   "cell_type": "code",
   "execution_count": 8,
   "metadata": {},
   "outputs": [
    {
     "data": {
      "text/plain": [
       "{'col_ind': 1,\n",
       " 'attribute': 'X2',\n",
       " 'val': 3.6454,\n",
       " 'right': {'col_ind': 0,\n",
       "  'attribute': 'X1',\n",
       "  'val': 0.07623,\n",
       "  'right': {'col_ind': None,\n",
       "   'attribute': None,\n",
       "   'val': None,\n",
       "   'right': None,\n",
       "   'left': None,\n",
       "   'label': 1},\n",
       "  'left': {'col_ind': None,\n",
       "   'attribute': None,\n",
       "   'val': None,\n",
       "   'right': None,\n",
       "   'left': None,\n",
       "   'label': 0},\n",
       "  'label': None},\n",
       " 'left': {'col_ind': 0,\n",
       "  'attribute': 'X1',\n",
       "  'val': 7.0287,\n",
       "  'right': {'col_ind': None,\n",
       "   'attribute': None,\n",
       "   'val': None,\n",
       "   'right': None,\n",
       "   'left': None,\n",
       "   'label': 1},\n",
       "  'left': {'col_ind': None,\n",
       "   'attribute': None,\n",
       "   'val': None,\n",
       "   'right': None,\n",
       "   'left': None,\n",
       "   'label': 0},\n",
       "  'label': None},\n",
       " 'label': None}"
      ]
     },
     "execution_count": 8,
     "metadata": {},
     "output_type": "execute_result"
    }
   ],
   "source": [
    "dt2.tree"
   ]
  },
  {
   "cell_type": "code",
   "execution_count": null,
   "metadata": {},
   "outputs": [],
   "source": []
  },
  {
   "cell_type": "code",
   "execution_count": null,
   "metadata": {},
   "outputs": [],
   "source": []
  },
  {
   "cell_type": "code",
   "execution_count": null,
   "metadata": {},
   "outputs": [],
   "source": []
  },
  {
   "cell_type": "markdown",
   "metadata": {},
   "source": [
    "# Dataset 3"
   ]
  },
  {
   "cell_type": "markdown",
   "metadata": {},
   "source": [
    "### Training"
   ]
  },
  {
   "cell_type": "code",
   "execution_count": 9,
   "metadata": {},
   "outputs": [],
   "source": [
    "from sklearn.datasets import make_classification\n"
   ]
  },
  {
   "cell_type": "code",
   "execution_count": 10,
   "metadata": {},
   "outputs": [],
   "source": [
    "X3, t3 = make_classification(n_samples=1000, n_features=2, n_redundant=0, n_informative=1,\n",
    "                             n_clusters_per_class=1, random_state=14, class_sep=1, n_classes=2)\n",
    "\n",
    "dt3 = decision_tree_id3()\n",
    "dt3.fit(X3, t3)"
   ]
  },
  {
   "cell_type": "markdown",
   "metadata": {},
   "source": [
    "### Testing"
   ]
  },
  {
   "cell_type": "code",
   "execution_count": 11,
   "metadata": {},
   "outputs": [
    {
     "name": "stdout",
     "output_type": "stream",
     "text": [
      "Accuracy 98.66666666666667 %\n"
     ]
    }
   ],
   "source": [
    "X3_test, y3_actual = make_classification(n_samples=300, n_features=2, n_redundant=0, n_informative=1,\n",
    "                             n_clusters_per_class=1, random_state=14, class_sep=1, n_classes=2)\n",
    "\n",
    "y3_predicted = dt3.predict(X3_test)\n",
    "acc3 = dt3.accuracy(y3_predicted, y3_actual)\n",
    "print('Accuracy', acc3, '%')"
   ]
  },
  {
   "cell_type": "code",
   "execution_count": 12,
   "metadata": {},
   "outputs": [
    {
     "data": {
      "text/plain": [
       "{'col_ind': 0,\n",
       " 'attribute': 'X1',\n",
       " 'val': -0.07071678678023519,\n",
       " 'right': {'col_ind': 1,\n",
       "  'attribute': 'X2',\n",
       "  'val': 1.5037879976276987,\n",
       "  'right': {'col_ind': None,\n",
       "   'attribute': None,\n",
       "   'val': None,\n",
       "   'right': None,\n",
       "   'left': None,\n",
       "   'label': 1},\n",
       "  'left': {'col_ind': None,\n",
       "   'attribute': None,\n",
       "   'val': None,\n",
       "   'right': None,\n",
       "   'left': None,\n",
       "   'label': 1},\n",
       "  'label': None},\n",
       " 'left': {'col_ind': 1,\n",
       "  'attribute': 'X2',\n",
       "  'val': 1.0864076374038787,\n",
       "  'right': {'col_ind': None,\n",
       "   'attribute': None,\n",
       "   'val': None,\n",
       "   'right': None,\n",
       "   'left': None,\n",
       "   'label': 0},\n",
       "  'left': {'col_ind': None,\n",
       "   'attribute': None,\n",
       "   'val': None,\n",
       "   'right': None,\n",
       "   'left': None,\n",
       "   'label': 0},\n",
       "  'label': None},\n",
       " 'label': None}"
      ]
     },
     "execution_count": 12,
     "metadata": {},
     "output_type": "execute_result"
    }
   ],
   "source": [
    "dt3.tree"
   ]
  },
  {
   "cell_type": "code",
   "execution_count": null,
   "metadata": {},
   "outputs": [],
   "source": []
  }
 ],
 "metadata": {
  "kernelspec": {
   "display_name": "Python 3",
   "language": "python",
   "name": "python3"
  },
  "language_info": {
   "codemirror_mode": {
    "name": "ipython",
    "version": 3
   },
   "file_extension": ".py",
   "mimetype": "text/x-python",
   "name": "python",
   "nbconvert_exporter": "python",
   "pygments_lexer": "ipython3",
   "version": "3.7.3"
  }
 },
 "nbformat": 4,
 "nbformat_minor": 2
}
